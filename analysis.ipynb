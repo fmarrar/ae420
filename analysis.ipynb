{
 "cells": [
  {
   "cell_type": "code",
   "execution_count": null,
   "id": "13d661fa",
   "metadata": {},
   "outputs": [],
   "source": [
    "import numpy as np\n",
    "import matplotlib.pyplot as plt\n",
    "from generate_mesh import *\n",
    "from assembly import *\n",
    "from post_processing import *\n",
    "import pandas as pd\n",
    "from plotting import *\n",
    "import matplotlib.pyplot as plt\n",
    "plt.rcParams[\"font.family\"] = \"serif\""
   ]
  },
  {
   "cell_type": "markdown",
   "id": "fc9fb12b",
   "metadata": {},
   "source": [
    "## Constants"
   ]
  },
  {
   "cell_type": "code",
   "execution_count": null,
   "id": "6a9e2f67",
   "metadata": {},
   "outputs": [],
   "source": [
    "# Wing structure dimensions\n",
    "w = 5.46\n",
    "h = 1.378\n",
    "# Number of portions in the x\n",
    "p = 25\n",
    "# Number of portions in the y\n",
    "m = 25\n",
    "element_type = 'quadrilateral'\n",
    "\n",
    "Cl = 0.5 \n",
    "Cd = 0.01\n",
    "rho = 0.770816\n",
    "A = w*h\n",
    "E = 69e9\n",
    "nu = 0.33\n",
    "V = np.linspace(51.4096, 76.8909, 100)"
   ]
  },
  {
   "cell_type": "markdown",
   "id": "268d4d29",
   "metadata": {},
   "source": [
    "## Generating the mesh"
   ]
  },
  {
   "cell_type": "code",
   "execution_count": null,
   "id": "7c0b0a76",
   "metadata": {},
   "outputs": [],
   "source": [
    "NL, EL = generate_mesh(w, h, p, m, element_type)\n",
    "\n",
    "NoN = np.size(NL, 0)\n",
    "NoE = np.size(EL, 0)\n",
    "\n",
    "print(f'Number of nodes = {NoN}')\n",
    "print(f'Number of elements = {NoE}')\n",
    "\n",
    "plt.figure(1)\n",
    "\n",
    "for i in range(0, NoN):\n",
    "    plt.scatter(NL[i, 0], NL[i, 1], color = 'black')\n",
    "#     plt.annotate(f'{i+1}', xy = [NL[i,0], NL[i,1]], fontsize=12)\n",
    "\n",
    "if element_type == 'quadrilateral':\n",
    "    x0, y0 = NL[EL[:, 0]-1, 0], NL[EL[:, 0]-1,1]\n",
    "    x1, y1 = NL[EL[:, 1]-1, 0], NL[EL[:, 1]-1,1]\n",
    "    x2, y2 = NL[EL[:, 2]-1, 0], NL[EL[:, 2]-1,1]\n",
    "    x3, y3 = NL[EL[:, 3]-1, 0], NL[EL[:, 3]-1,1]\n",
    "\n",
    "    plt.plot(np.array([x0, x1]), np.array([y0, y1]), 'k', linewidth=3)\n",
    "    plt.plot(np.array([x1, x2]), np.array([y1, y2]), 'k', linewidth=3)\n",
    "    plt.plot(np.array([x2, x3]), np.array([y2, y3]), 'k', linewidth=3)\n",
    "    plt.plot(np.array([x3, x0]), np.array([y3, y0]), 'k', linewidth=3)\n",
    "\n",
    "if element_type == 'triangular':\n",
    "    x0, y0 = NL[EL[:, 0]-1, 0], NL[EL[:, 0]-1,1]\n",
    "    x1, y1 = NL[EL[:, 1]-1, 0], NL[EL[:, 1]-1,1]\n",
    "    x2, y2 = NL[EL[:, 2]-1, 0], NL[EL[:, 2]-1,1]\n",
    "    plt.plot(np.array([x0, x1]), np.array([y0, y1]), 'k', linewidth=3)\n",
    "    plt.plot(np.array([x1, x2]), np.array([y1, y2]), 'k', linewidth=3)\n",
    "    plt.plot(np.array([x2, x0]), np.array([y2, y0]), 'k', linewidth=3)\n",
    "\n",
    "plt.xlabel('x (m)', fontsize=12)\n",
    "plt.ylabel('y (m)', fontsize=12)\n",
    "plt.savefig('WingGeometry.png', dpi='figure')"
   ]
  },
  {
   "cell_type": "markdown",
   "id": "44eda410",
   "metadata": {},
   "source": [
    "## Assembling the global stiffness matrix and boundary conditions - Aluminum"
   ]
  },
  {
   "cell_type": "code",
   "execution_count": null,
   "id": "2d471449",
   "metadata": {},
   "outputs": [],
   "source": [
    "K = assemble_stiffness(NL, EL, E, nu)\n",
    "nodes_BC = assign_BC(EL, p, m)\n",
    "K_reduced = reduce_K(K, nodes_BC)\n",
    "R = np.zeros([NoN*2, 1])"
   ]
  },
  {
   "cell_type": "markdown",
   "id": "3f8bbc6b",
   "metadata": {},
   "source": [
    "## Different loading conditions"
   ]
  },
  {
   "cell_type": "code",
   "execution_count": null,
   "id": "31182749",
   "metadata": {},
   "outputs": [],
   "source": [
    "# For the distribution\n",
    "u_net_dist_Al = np.zeros(len(V))\n",
    "for i in range(len(V)):\n",
    "    location, location_distribution = assign_forces(nodes_BC, p, m)\n",
    "    D = -1/2 * rho * V[i]**2 * A * Cd\n",
    "    R[location_distribution] = D/len(location_distribution)\n",
    "    R_reduced = reduce_R(R, nodes_BC)\n",
    "    u_reduced = np.linalg.inv(K_reduced)@R_reduced\n",
    "    u = assemble_displacements(u_reduced, nodes_BC, NL, EL)\n",
    "    u_dist = u\n",
    "    u_net_dist_Al[i] = np.linalg.norm(u)"
   ]
  },
  {
   "cell_type": "code",
   "execution_count": null,
   "id": "f18eea06",
   "metadata": {},
   "outputs": [],
   "source": [
    "# Single force\n",
    "u_net_1_Al = np.zeros(len(V))\n",
    "for i in range(len(V)):\n",
    "    location, location_distribution = assign_forces(nodes_BC, p, m, 1)\n",
    "    D = -1/2 * rho * V[i]**2 * A * Cd\n",
    "    R[location] = D\n",
    "    R_reduced = reduce_R(R, nodes_BC)\n",
    "    u_reduced = np.linalg.inv(K_reduced)@R_reduced\n",
    "    u = assemble_displacements(u_reduced, nodes_BC, NL, EL)\n",
    "    u_1 = u\n",
    "    u_net_1_Al[i] = np.linalg.norm(u)"
   ]
  },
  {
   "cell_type": "code",
   "execution_count": null,
   "id": "8613b2e2",
   "metadata": {},
   "outputs": [],
   "source": [
    "# Two forces\n",
    "u_net_2_Al = np.zeros(len(V))\n",
    "for i in range(len(V)):\n",
    "    location, location_distribution = assign_forces(nodes_BC, p, m, 2)\n",
    "    D = -1/2 * rho * V[i]**2 * A * Cd\n",
    "    R[location] = D/len(location)\n",
    "    R_reduced = reduce_R(R, nodes_BC)\n",
    "    u_reduced = np.linalg.inv(K_reduced)@R_reduced\n",
    "    u = assemble_displacements(u_reduced, nodes_BC, NL, EL)\n",
    "    u_2 = u\n",
    "    u_net_2_Al[i] = np.linalg.norm(u)"
   ]
  },
  {
   "cell_type": "code",
   "execution_count": null,
   "id": "f96a3583",
   "metadata": {},
   "outputs": [],
   "source": [
    "# Three forces\n",
    "u_net_3_Al = np.zeros(len(V))\n",
    "for i in range(len(V)):\n",
    "    location, location_distribution = assign_forces(nodes_BC, p, m, 3)\n",
    "    D = -1/2 * rho * V[i]**2 * A * Cd\n",
    "    R[location] = D/len(location)\n",
    "    R_reduced = reduce_R(R, nodes_BC)\n",
    "    u_reduced = np.linalg.inv(K_reduced)@R_reduced\n",
    "    u = assemble_displacements(u_reduced, nodes_BC, NL, EL)\n",
    "    u_3 = u\n",
    "    u_net_3_Al[i] = np.linalg.norm(u)"
   ]
  },
  {
   "cell_type": "markdown",
   "id": "2fc079ce",
   "metadata": {},
   "source": [
    "## Post-Processing"
   ]
  },
  {
   "cell_type": "code",
   "execution_count": null,
   "id": "4eb025a4",
   "metadata": {},
   "outputs": [],
   "source": [
    "u_all = np.array([u_1, u_2, u_3, u_dist])\n",
    "stress_yyNormalized_all = np.zeros([len(u), 4, NoE])\n",
    "X_all = np.zeros([len(u), 4, NoE])\n",
    "Y_all = np.zeros([len(u), 4, NoE])\n",
    "for i in range(len(u_all)):\n",
    "    (stress_xx, stress_xy, stress_yx, stress_yy,strain_xx,strain_xy,strain_yx,strain_yy, X, Y) = post_process(NL, EL, u_all[i], E, nu, 1e7)\n",
    "    X_all[i] = X\n",
    "    Y_all[i] = Y\n",
    "    stress_yyNormalized = (stress_yy - stress_yy.min())/(stress_yy.max() - stress_yy.min())\n",
    "    stress_yyNormalized_all[i] = stress_yyNormalized"
   ]
  },
  {
   "cell_type": "code",
   "execution_count": null,
   "id": "1338c0dd",
   "metadata": {
    "scrolled": false
   },
   "outputs": [],
   "source": [
    "fig, ax = plt.subplots(2, 2, figsize=(10,10), sharex=True, sharey=True)\n",
    "for i in range(np.size(EL,0)):\n",
    "    x = X_all[0][:,i]\n",
    "    y = Y_all[0][:,i]\n",
    "    c = stress_yyNormalized_all[0][:,i]\n",
    "    cmap = truncate_colormap(plt.get_cmap('jet'), c.min(), c.max())\n",
    "    t1 = ax[0,0].tripcolor(x, y, c, cmap = cmap, shading = 'gouraud')\n",
    "    p = ax[0,0].plot(x,y,'k-', linewidth=0.5)\n",
    "    ax[0,0].set_title('Case A')\n",
    "    \n",
    "    x = X_all[1][:,i]\n",
    "    y = Y_all[1][:,i]\n",
    "    c = stress_yyNormalized_all[1][:,i]\n",
    "    cmap = truncate_colormap(plt.get_cmap('jet'), c.min(), c.max())\n",
    "    t2 = ax[0,1].tripcolor(x, y, c, cmap = cmap, shading = 'gouraud')\n",
    "    p = ax[0,1].plot(x,y,'k-', linewidth=0.5)\n",
    "    ax[0,1].set_title('Case B')\n",
    "    \n",
    "    x = X_all[2][:,i]\n",
    "    y = Y_all[2][:,i]\n",
    "    c = stress_yyNormalized_all[2][:,i]\n",
    "    cmap = truncate_colormap(plt.get_cmap('jet'), c.min(), c.max())\n",
    "    t = ax[1,0].tripcolor(x, y, c, cmap = cmap, shading = 'gouraud')\n",
    "    p = ax[1,0].plot(x,y,'k-', linewidth=0.5)\n",
    "    ax[1,0].set_title('Case C')\n",
    "    \n",
    "    x = X_all[3][:,i]\n",
    "    y = Y_all[3][:,i]\n",
    "    c = stress_yyNormalized_all[3][:,i]\n",
    "    cmap = truncate_colormap(plt.get_cmap('jet'), c.min(), c.max())\n",
    "    t = ax[1,1].tripcolor(x, y, c, cmap = cmap, shading = 'gouraud')\n",
    "    p = ax[1,1].plot(x,y,'k-', linewidth=0.5)\n",
    "    ax[1,1].set_title('Case D')\n",
    "\n",
    "for i in range(2):\n",
    "    for j in range(2):\n",
    "        ax[i, j].tick_params(axis='x', labelsize=11)\n",
    "        ax[i, j].tick_params(axis='y', labelsize=11)\n",
    "\n",
    "fig.add_subplot(111, frameon=False)\n",
    "plt.tick_params(labelcolor='none', which='both', top=False, bottom=False, left=False, right=False)\n",
    "        \n",
    "plt.xlabel(\"x (m)\", fontsize=12)\n",
    "plt.ylabel(\"y (m)\", fontsize=12)\n",
    "    \n",
    "fig.subplots_adjust(right=0.8)\n",
    "cbar_ax = fig.add_axes([0.85, 0.15, 0.05, 0.7])\n",
    "fig.colorbar(t2, cax=cbar_ax)\n",
    "fig.suptitle(r'$\\sigma_{yy}$ - Aluminum', fontsize=25)\n",
    "plt.savefig('AluminumStress.png', dpi='figure')"
   ]
  },
  {
   "cell_type": "markdown",
   "id": "aca2bb8a",
   "metadata": {},
   "source": [
    "## Maximum displacement"
   ]
  },
  {
   "cell_type": "code",
   "execution_count": null,
   "id": "7a221487",
   "metadata": {},
   "outputs": [],
   "source": [
    "u_max = np.zeros(4)\n",
    "u_max_nodes = np.zeros(4)\n",
    "for i in range(len(u_max)):\n",
    "    u_current = u_all[i]\n",
    "    for j in range(int(len(u_current)/2)):\n",
    "        current_max = 0\n",
    "        current_max_node = 1\n",
    "        ux_current = u_current[2*j]\n",
    "        uy_current = u_current[2*j + 1]\n",
    "        u_norm_current = np.sqrt(ux_current**2 + uy_current**2)\n",
    "        if u_norm_current > current_max:\n",
    "            current_max = u_norm_current\n",
    "            current_max_node = j + 1\n",
    "            print(current_max_node)\n",
    "    u_max[i] = current_max\n",
    "    u_max_nodes[i] = current_max_node"
   ]
  },
  {
   "cell_type": "markdown",
   "id": "aab687df",
   "metadata": {},
   "source": [
    "## Improved Design - Carbon Fiber"
   ]
  },
  {
   "cell_type": "code",
   "execution_count": null,
   "id": "c96b76c6",
   "metadata": {},
   "outputs": [],
   "source": [
    "# Wing structure dimensions\n",
    "w = 5.46\n",
    "h = 1.378\n",
    "# Number of portions in the x\n",
    "p = 25\n",
    "# Number of portions in the y\n",
    "m = 25\n",
    "element_type = 'quadrilateral'\n",
    "\n",
    "Cl = 0.5 \n",
    "Cd = 0.01\n",
    "rho = 0.770816\n",
    "A = w*h\n",
    "E = 135e9\n",
    "nu = 0.3\n",
    "V = np.linspace(51.4096, 76.8909, 100)"
   ]
  },
  {
   "cell_type": "markdown",
   "id": "5d142f81",
   "metadata": {},
   "source": [
    "## Generating the mesh"
   ]
  },
  {
   "cell_type": "code",
   "execution_count": null,
   "id": "03a57273",
   "metadata": {},
   "outputs": [],
   "source": [
    "NL, EL = generate_mesh(w, h, p, m, element_type)\n",
    "\n",
    "NoN = np.size(NL, 0)\n",
    "NoE = np.size(EL, 0)\n",
    "\n",
    "print(f'Number of nodes = {NoN}')\n",
    "print(f'Number of elements = {NoE}')\n",
    "\n",
    "plt.figure(1)\n",
    "\n",
    "for i in range(0, NoN):\n",
    "    plt.scatter(NL[i, 0], NL[i, 1], color = 'black')\n",
    "#     plt.annotate(f'{i+1}', xy = [NL[i,0], NL[i,1]], fontsize=12)\n",
    "\n",
    "if element_type == 'quadrilateral':\n",
    "    x0, y0 = NL[EL[:, 0]-1, 0], NL[EL[:, 0]-1,1]\n",
    "    x1, y1 = NL[EL[:, 1]-1, 0], NL[EL[:, 1]-1,1]\n",
    "    x2, y2 = NL[EL[:, 2]-1, 0], NL[EL[:, 2]-1,1]\n",
    "    x3, y3 = NL[EL[:, 3]-1, 0], NL[EL[:, 3]-1,1]\n",
    "\n",
    "    plt.plot(np.array([x0, x1]), np.array([y0, y1]), 'k', linewidth=3)\n",
    "    plt.plot(np.array([x1, x2]), np.array([y1, y2]), 'k', linewidth=3)\n",
    "    plt.plot(np.array([x2, x3]), np.array([y2, y3]), 'k', linewidth=3)\n",
    "    plt.plot(np.array([x3, x0]), np.array([y3, y0]), 'k', linewidth=3)\n",
    "\n",
    "if element_type == 'triangular':\n",
    "    x0, y0 = NL[EL[:, 0]-1, 0], NL[EL[:, 0]-1,1]\n",
    "    x1, y1 = NL[EL[:, 1]-1, 0], NL[EL[:, 1]-1,1]\n",
    "    x2, y2 = NL[EL[:, 2]-1, 0], NL[EL[:, 2]-1,1]\n",
    "    plt.plot(np.array([x0, x1]), np.array([y0, y1]), 'k', linewidth=3)\n",
    "    plt.plot(np.array([x1, x2]), np.array([y1, y2]), 'k', linewidth=3)\n",
    "    plt.plot(np.array([x2, x0]), np.array([y2, y0]), 'k', linewidth=3)\n",
    "\n",
    "plt.xlabel('x (m)', fontsize=12)\n",
    "plt.ylabel('y (m)', fontsize=12)\n",
    "plt.savefig('WingGeometry.png', dpi='figure')"
   ]
  },
  {
   "cell_type": "markdown",
   "id": "cdc03353",
   "metadata": {},
   "source": [
    "## Assembling the global stiffness matrix and boundary conditions - Carbon Fiber"
   ]
  },
  {
   "cell_type": "code",
   "execution_count": null,
   "id": "416859be",
   "metadata": {},
   "outputs": [],
   "source": [
    "K = assemble_stiffness(NL, EL, E, nu)\n",
    "nodes_BC = assign_BC(EL, p, m)\n",
    "K_reduced = reduce_K(K, nodes_BC)\n",
    "R = np.zeros([NoN*2, 1])"
   ]
  },
  {
   "cell_type": "markdown",
   "id": "63ff30b4",
   "metadata": {},
   "source": [
    "## Different loading conditions"
   ]
  },
  {
   "cell_type": "code",
   "execution_count": null,
   "id": "2fe64536",
   "metadata": {},
   "outputs": [],
   "source": [
    "# For the distribution\n",
    "u_net_dist_carb = np.zeros(len(V))\n",
    "for i in range(len(V)):\n",
    "    location, location_distribution = assign_forces(nodes_BC, p, m)\n",
    "    D = -1/2 * rho * V[i]**2 * A * Cd\n",
    "    R[location_distribution] = D/len(location_distribution)\n",
    "    R_reduced = reduce_R(R, nodes_BC)\n",
    "    u_reduced = np.linalg.inv(K_reduced)@R_reduced\n",
    "    u = assemble_displacements(u_reduced, nodes_BC, NL, EL)\n",
    "    u_dist = u\n",
    "    u_net_dist_carb[i] = np.linalg.norm(u)"
   ]
  },
  {
   "cell_type": "code",
   "execution_count": null,
   "id": "c91504af",
   "metadata": {},
   "outputs": [],
   "source": [
    "# Single force\n",
    "u_net_1_carb = np.zeros(len(V))\n",
    "for i in range(len(V)):\n",
    "    location, location_distribution = assign_forces(nodes_BC, p, m, 1)\n",
    "    D = -1/2 * rho * V[i]**2 * A * Cd\n",
    "    R[location] = D\n",
    "    R_reduced = reduce_R(R, nodes_BC)\n",
    "    u_reduced = np.linalg.inv(K_reduced)@R_reduced\n",
    "    u = assemble_displacements(u_reduced, nodes_BC, NL, EL)\n",
    "    u_1 = u\n",
    "    u_net_1_carb[i] = np.linalg.norm(u)"
   ]
  },
  {
   "cell_type": "code",
   "execution_count": null,
   "id": "8bb71d3d",
   "metadata": {},
   "outputs": [],
   "source": [
    "# Two forces\n",
    "u_net_2_carb = np.zeros(len(V))\n",
    "for i in range(len(V)):\n",
    "    location, location_distribution = assign_forces(nodes_BC, p, m, 2)\n",
    "    D = -1/2 * rho * V[i]**2 * A * Cd\n",
    "    R[location] = D/len(location)\n",
    "    R_reduced = reduce_R(R, nodes_BC)\n",
    "    u_reduced = np.linalg.inv(K_reduced)@R_reduced\n",
    "    u = assemble_displacements(u_reduced, nodes_BC, NL, EL)\n",
    "    u_2 = u\n",
    "    u_net_2_carb[i] = np.linalg.norm(u)"
   ]
  },
  {
   "cell_type": "code",
   "execution_count": null,
   "id": "0ded8adf",
   "metadata": {},
   "outputs": [],
   "source": [
    "# Three forces\n",
    "u_net_3_carb = np.zeros(len(V))\n",
    "for i in range(len(V)):\n",
    "    location, location_distribution = assign_forces(nodes_BC, p, m, 3)\n",
    "    D = -1/2 * rho * V[i]**2 * A * Cd\n",
    "    R[location] = D/len(location)\n",
    "    R_reduced = reduce_R(R, nodes_BC)\n",
    "    u_reduced = np.linalg.inv(K_reduced)@R_reduced\n",
    "    u = assemble_displacements(u_reduced, nodes_BC, NL, EL)\n",
    "    u_3 = u\n",
    "    u_net_3_carb[i] = np.linalg.norm(u)"
   ]
  },
  {
   "cell_type": "markdown",
   "id": "020f3f30",
   "metadata": {},
   "source": [
    "## Post-Processing"
   ]
  },
  {
   "cell_type": "code",
   "execution_count": null,
   "id": "a5765a97",
   "metadata": {},
   "outputs": [],
   "source": [
    "u_all = np.array([u_1, u_2, u_3, u_dist])\n",
    "stress_yyNormalized_all = np.zeros([len(u), 4, NoE])\n",
    "X_all = np.zeros([len(u), 4, NoE])\n",
    "Y_all = np.zeros([len(u), 4, NoE])\n",
    "for i in range(len(u_all)):\n",
    "    (stress_xx, stress_xy, stress_yx, stress_yy,strain_xx,strain_xy,strain_yx,strain_yy, X, Y) = post_process(NL, EL, u_all[i], E, nu, 1e7)\n",
    "    X_all[i] = X\n",
    "    Y_all[i] = Y\n",
    "    stress_yyNormalized = (stress_yy - stress_yy.min())/(stress_yy.max() - stress_yy.min())\n",
    "    stress_yyNormalized_all[i] = stress_yyNormalized"
   ]
  },
  {
   "cell_type": "code",
   "execution_count": null,
   "id": "3615ceeb",
   "metadata": {
    "scrolled": false
   },
   "outputs": [],
   "source": [
    "fig, ax = plt.subplots(2, 2, figsize=(10,10), sharex=True, sharey=True)\n",
    "for i in range(np.size(EL,0)):\n",
    "    x = X_all[0][:,i]\n",
    "    y = Y_all[0][:,i]\n",
    "    c = stress_yyNormalized_all[0][:,i]\n",
    "    cmap = truncate_colormap(plt.get_cmap('jet'), c.min(), c.max())\n",
    "    t1 = ax[0,0].tripcolor(x, y, c, cmap = cmap, shading = 'gouraud')\n",
    "    p = ax[0,0].plot(x,y,'k-', linewidth=0.5)\n",
    "    ax[0,0].set_title('Case A')\n",
    "    \n",
    "    x = X_all[1][:,i]\n",
    "    y = Y_all[1][:,i]\n",
    "    c = stress_yyNormalized_all[1][:,i]\n",
    "    cmap = truncate_colormap(plt.get_cmap('jet'), c.min(), c.max())\n",
    "    t2 = ax[0,1].tripcolor(x, y, c, cmap = cmap, shading = 'gouraud')\n",
    "    p = ax[0,1].plot(x,y,'k-', linewidth=0.5)\n",
    "    ax[0,1].set_title('Case B')\n",
    "    \n",
    "    x = X_all[2][:,i]\n",
    "    y = Y_all[2][:,i]\n",
    "    c = stress_yyNormalized_all[2][:,i]\n",
    "    cmap = truncate_colormap(plt.get_cmap('jet'), c.min(), c.max())\n",
    "    t = ax[1,0].tripcolor(x, y, c, cmap = cmap, shading = 'gouraud')\n",
    "    p = ax[1,0].plot(x,y,'k-', linewidth=0.5)\n",
    "    ax[1,0].set_title('Case C')\n",
    "    \n",
    "    x = X_all[3][:,i]\n",
    "    y = Y_all[3][:,i]\n",
    "    c = stress_yyNormalized_all[3][:,i]\n",
    "    cmap = truncate_colormap(plt.get_cmap('jet'), c.min(), c.max())\n",
    "    t = ax[1,1].tripcolor(x, y, c, cmap = cmap, shading = 'gouraud')\n",
    "    p = ax[1,1].plot(x,y,'k-', linewidth=0.5)\n",
    "    ax[1,1].set_title('Case D')\n",
    "\n",
    "for i in range(2):\n",
    "    for j in range(2):\n",
    "        ax[i, j].tick_params(axis='x', labelsize=11)\n",
    "        ax[i, j].tick_params(axis='y', labelsize=11)\n",
    "\n",
    "fig.add_subplot(111, frameon=False)\n",
    "plt.tick_params(labelcolor='none', which='both', top=False, bottom=False, left=False, right=False)\n",
    "        \n",
    "plt.xlabel(\"x (m)\", fontsize=12)\n",
    "plt.ylabel(\"y (m)\", fontsize=12)\n",
    "    \n",
    "fig.subplots_adjust(right=0.8)\n",
    "cbar_ax = fig.add_axes([0.85, 0.15, 0.05, 0.7])\n",
    "fig.colorbar(t2, cax=cbar_ax)\n",
    "fig.suptitle(r'$\\sigma_{yy}$ - Carbon Fiber', fontsize=25)\n",
    "plt.savefig('CarbonFiberStress.png', dpi='figure')"
   ]
  },
  {
   "cell_type": "markdown",
   "id": "558423b1",
   "metadata": {},
   "source": [
    "## Plotting the displacement fields with each other and Improved Design"
   ]
  },
  {
   "cell_type": "code",
   "execution_count": null,
   "id": "cfb97771",
   "metadata": {},
   "outputs": [],
   "source": [
    "u_net_Al = 1e3*np.array([u_net_1_Al, u_net_2_Al, u_net_3_Al, u_net_dist_Al])\n",
    "u_net_carb = 1e3*np.array([u_net_1_carb, u_net_2_carb, u_net_3_carb, u_net_dist_carb])"
   ]
  },
  {
   "cell_type": "code",
   "execution_count": null,
   "id": "0fe9294f",
   "metadata": {},
   "outputs": [],
   "source": [
    "fig, ax = plt.subplots(2, 2, figsize=(10,10), sharex=True)\n",
    "fig.add_subplot(111, frameon=False)\n",
    "plt.tick_params(labelcolor='none', which='both', top=False, bottom=False, left=False, right=False)\n",
    "ax[0, 0].plot(V, u_net_Al[0], label=r'$\\tilde{w}_{net} $ - Aluminum')\n",
    "ax[0, 0].plot(V, u_net_carb[0], label=r'$\\tilde{w}_{net} $ - Carbon Fiber')\n",
    "ax[0, 0].set_title('Case A')\n",
    "\n",
    "ax[0, 1].plot(V, u_net_Al[1], label=r'$\\tilde{w}_{net} $ - Aluminum')\n",
    "ax[0, 1].plot(V, u_net_carb[1], label=r'$\\tilde{w}_{net} $ - Carbon Fiber')\n",
    "ax[0, 1].set_title('Case B')\n",
    "\n",
    "ax[1, 0].plot(V, u_net_Al[2], label=r'$\\tilde{w}_{net} $ - Aluminum')\n",
    "ax[1, 0].plot(V, u_net_carb[2], label=r'$\\tilde{w}_{net} $ - Carbon Fiber')\n",
    "ax[1, 0].set_title('Case C')\n",
    "\n",
    "ax[1, 1].plot(V, u_net_Al[3], label=r'$\\tilde{w}_{net} $ - Aluminum')\n",
    "ax[1, 1].plot(V, u_net_carb[3], label=r'$\\tilde{w}_{net} $ - Carbon Fiber')\n",
    "ax[1, 1].set_title('Case D')\n",
    "\n",
    "for i in range(2):\n",
    "    for j in range(2):\n",
    "        plt.ticklabel_format(axis='y', style='sci')\n",
    "        ax[i, j].yaxis.major.formatter.set_powerlimits((0,0))\n",
    "        ax[i, j].tick_params(axis='x', labelsize=11)\n",
    "        ax[i, j].tick_params(axis='y', labelsize=11)\n",
    "        ax[i, j].grid()\n",
    "        ax[i, j].legend(fontsize=12)\n",
    "plt.xlabel(\"Cruise speed (m/s)\", fontsize=12)\n",
    "plt.ylabel(\"Net displacement (mm)\", fontsize=12)\n",
    "fig.tight_layout()"
   ]
  },
  {
   "cell_type": "markdown",
   "id": "d3d8c129",
   "metadata": {},
   "source": [
    "## Convergence"
   ]
  },
  {
   "cell_type": "code",
   "execution_count": null,
   "id": "4a4483a3",
   "metadata": {},
   "outputs": [],
   "source": [
    "# Fix m, vary p\n",
    "m = 3\n",
    "p_dist = [i for i in range(1, p+20, 3)]\n",
    "u_net_NoE = np.zeros(len(p_dist))\n",
    "\n",
    "for i in range(len(p_dist)):\n",
    "    p = p_dist[i]\n",
    "    NL, EL = generate_mesh(w, h, p, m, element_type)\n",
    "    NoN = np.size(NL, 0)\n",
    "    NoE = np.size(EL, 0)\n",
    "    K = assemble_stiffness(NL, EL, E, nu)\n",
    "    nodes_BC = assign_BC(EL, p, m)\n",
    "    K_reduced = reduce_K(K, nodes_BC)\n",
    "    R = np.zeros([NoN*2, 1])\n",
    "    location, location_distribution = assign_forces(nodes_BC, p, m)\n",
    "    D = -1/2 * rho * V[-1]**2 * A * Cd\n",
    "    R[location_distribution] = D/len(location_distribution)\n",
    "    R_reduced = reduce_R(R, nodes_BC)\n",
    "    u_reduced = np.linalg.inv(K_reduced)@R_reduced\n",
    "    u = assemble_displacements(u_reduced, nodes_BC, NL, EL)\n",
    "    u_net_NoE[i] = u.min()"
   ]
  },
  {
   "cell_type": "code",
   "execution_count": null,
   "id": "a127e9c7",
   "metadata": {},
   "outputs": [],
   "source": [
    "plt.plot(p_dist, u_net_NoE, '.')\n",
    "plt.xlabel('Number of Elements across width', fontsize=12)\n",
    "plt.ylabel('Maximum displacement (m)', fontsize=12)\n",
    "plt.grid()\n",
    "plt.savefig('Convergence.png')"
   ]
  }
 ],
 "metadata": {
  "kernelspec": {
   "display_name": "Python 3",
   "language": "python",
   "name": "python3"
  },
  "language_info": {
   "codemirror_mode": {
    "name": "ipython",
    "version": 3
   },
   "file_extension": ".py",
   "mimetype": "text/x-python",
   "name": "python",
   "nbconvert_exporter": "python",
   "pygments_lexer": "ipython3",
   "version": "3.8.8"
  }
 },
 "nbformat": 4,
 "nbformat_minor": 5
}
